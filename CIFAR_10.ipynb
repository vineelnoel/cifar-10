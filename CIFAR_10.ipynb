{
  "nbformat": 4,
  "nbformat_minor": 0,
  "metadata": {
    "colab": {
      "name": "CIFAR-10",
      "provenance": [],
      "collapsed_sections": [],
      "authorship_tag": "ABX9TyNH4lbHxQDCyr9vp5vb5orX",
      "include_colab_link": true
    },
    "kernelspec": {
      "name": "python3",
      "display_name": "Python 3"
    },
    "accelerator": "GPU"
  },
  "cells": [
    {
      "cell_type": "markdown",
      "metadata": {
        "id": "view-in-github",
        "colab_type": "text"
      },
      "source": [
        "<a href=\"https://colab.research.google.com/github/vineelnoel/cifar-10/blob/main/CIFAR_10.ipynb\" target=\"_parent\"><img src=\"https://colab.research.google.com/assets/colab-badge.svg\" alt=\"Open In Colab\"/></a>"
      ]
    },
    {
      "cell_type": "code",
      "metadata": {
        "id": "Y4ZBRX8auHna"
      },
      "source": [
        "import tensorflow as tf\n",
        "import numpy as np\n",
        "import matplotlib.pyplot as plt"
      ],
      "execution_count": 1,
      "outputs": []
    },
    {
      "cell_type": "code",
      "metadata": {
        "id": "e-aJRIgkgafb"
      },
      "source": [
        "from tensorflow.keras.layers import Dense, Input, Conv2D, BatchNormalization, Flatten, MaxPooling2D, GlobalMaxPooling2D, Dropout\n",
        "from tensorflow.keras.models import Model"
      ],
      "execution_count": 2,
      "outputs": []
    },
    {
      "cell_type": "code",
      "metadata": {
        "id": "-t-pVTeX_C6d"
      },
      "source": [
        "cifar10 = tf.keras.datasets.cifar10"
      ],
      "execution_count": 3,
      "outputs": []
    },
    {
      "cell_type": "code",
      "metadata": {
        "id": "MmTpEf1l_Okd",
        "colab": {
          "base_uri": "https://localhost:8080/"
        },
        "outputId": "0a188662-561e-4c88-fb94-118ec700b05c"
      },
      "source": [
        "(X_train, y_train), (X_test, y_test) = cifar10.load_data()"
      ],
      "execution_count": 4,
      "outputs": [
        {
          "output_type": "stream",
          "text": [
            "Downloading data from https://www.cs.toronto.edu/~kriz/cifar-10-python.tar.gz\n",
            "170500096/170498071 [==============================] - 4s 0us/step\n"
          ],
          "name": "stdout"
        }
      ]
    },
    {
      "cell_type": "code",
      "metadata": {
        "colab": {
          "base_uri": "https://localhost:8080/"
        },
        "id": "0WFDR0f6ZTxa",
        "outputId": "3d1a7a97-b353-47eb-9425-5047ffbfdd61"
      },
      "source": [
        "X_train.shape[0]"
      ],
      "execution_count": 5,
      "outputs": [
        {
          "output_type": "execute_result",
          "data": {
            "text/plain": [
              "50000"
            ]
          },
          "metadata": {
            "tags": []
          },
          "execution_count": 5
        }
      ]
    },
    {
      "cell_type": "code",
      "metadata": {
        "colab": {
          "base_uri": "https://localhost:8080/"
        },
        "id": "1h7z1iAyZbAG",
        "outputId": "5813048b-998e-4598-9b90-03afe52c57a0"
      },
      "source": [
        "X_train.shape"
      ],
      "execution_count": 6,
      "outputs": [
        {
          "output_type": "execute_result",
          "data": {
            "text/plain": [
              "(50000, 32, 32, 3)"
            ]
          },
          "metadata": {
            "tags": []
          },
          "execution_count": 6
        }
      ]
    },
    {
      "cell_type": "code",
      "metadata": {
        "colab": {
          "base_uri": "https://localhost:8080/"
        },
        "id": "RX_5AyhIZzt5",
        "outputId": "352bde93-d1a0-463e-85b1-2dbb03369633"
      },
      "source": [
        "y_train.shape"
      ],
      "execution_count": 7,
      "outputs": [
        {
          "output_type": "execute_result",
          "data": {
            "text/plain": [
              "(50000, 1)"
            ]
          },
          "metadata": {
            "tags": []
          },
          "execution_count": 7
        }
      ]
    },
    {
      "cell_type": "code",
      "metadata": {
        "id": "zWsCXum8Z5dc"
      },
      "source": [
        "X_train, X_test = X_train/255.0, X_test/255.0"
      ],
      "execution_count": 8,
      "outputs": []
    },
    {
      "cell_type": "code",
      "metadata": {
        "id": "fmY_woEJarGB"
      },
      "source": [
        "y_train, y_test = y_train.flatten(), y_test.flatten()"
      ],
      "execution_count": 9,
      "outputs": []
    },
    {
      "cell_type": "code",
      "metadata": {
        "colab": {
          "base_uri": "https://localhost:8080/"
        },
        "id": "3CIePZbkjpoJ",
        "outputId": "891d1120-4e2f-445f-f090-af80229d085f"
      },
      "source": [
        "X_train.shape"
      ],
      "execution_count": 10,
      "outputs": [
        {
          "output_type": "execute_result",
          "data": {
            "text/plain": [
              "(50000, 32, 32, 3)"
            ]
          },
          "metadata": {
            "tags": []
          },
          "execution_count": 10
        }
      ]
    },
    {
      "cell_type": "code",
      "metadata": {
        "colab": {
          "base_uri": "https://localhost:8080/"
        },
        "id": "k8_bPYDIjuH7",
        "outputId": "ee917d8d-7842-4f77-d542-51c58534ee51"
      },
      "source": [
        "y_train.shape"
      ],
      "execution_count": 11,
      "outputs": [
        {
          "output_type": "execute_result",
          "data": {
            "text/plain": [
              "(50000,)"
            ]
          },
          "metadata": {
            "tags": []
          },
          "execution_count": 11
        }
      ]
    },
    {
      "cell_type": "code",
      "metadata": {
        "colab": {
          "base_uri": "https://localhost:8080/"
        },
        "id": "D8VGshHTj2l1",
        "outputId": "8e760ad4-e244-4684-e030-eb3b92f11af0"
      },
      "source": [
        "K = len(set(y_train))\n",
        "print(K)"
      ],
      "execution_count": 12,
      "outputs": [
        {
          "output_type": "stream",
          "text": [
            "10\n"
          ],
          "name": "stdout"
        }
      ]
    },
    {
      "cell_type": "code",
      "metadata": {
        "id": "lo6t59CCkTO8"
      },
      "source": [
        "i = Input(shape=X_train[0].shape)"
      ],
      "execution_count": 13,
      "outputs": []
    },
    {
      "cell_type": "code",
      "metadata": {
        "id": "lrgHBFrNkkRM"
      },
      "source": [
        "x = Conv2D(32, (3, 3), activation='relu', padding='same')(i)\n",
        "x = BatchNormalization()(x)\n",
        "x = Conv2D(32, (3, 3), activation='relu', padding='same')(x)\n",
        "x = BatchNormalization()(x)\n",
        "x = MaxPooling2D((2, 2))(x)\n",
        "\n",
        "x = Conv2D(64, (3, 3), activation='relu', padding='same')(x)\n",
        "x = BatchNormalization()(x)\n",
        "x = Conv2D(64, (3, 3), activation='relu', padding='same')(x)\n",
        "x = BatchNormalization()(x)\n",
        "x = MaxPooling2D((2, 2))(x)\n",
        "\n",
        "x = Conv2D(128, (3, 3), activation='relu', padding='same')(x)\n",
        "x = BatchNormalization()(x)\n",
        "x = Conv2D(128, (3, 3), activation='relu', padding='same')(x)\n",
        "x = BatchNormalization()(x)\n",
        "x = MaxPooling2D()(x)\n",
        "\n",
        "x = Flatten()(x)\n",
        "x = Dropout(0.2)(x)\n",
        "x = Dense(1024, activation='relu')(x)\n",
        "x = Dropout(0.2)(x)\n",
        "x = Dense(K, activation='softmax')(x)\n",
        "model = Model(i, x)"
      ],
      "execution_count": 14,
      "outputs": []
    },
    {
      "cell_type": "code",
      "metadata": {
        "colab": {
          "base_uri": "https://localhost:8080/"
        },
        "id": "pL6rePglnsFA",
        "outputId": "8a4c8139-e266-40b7-99fc-9fe90d722f36"
      },
      "source": [
        "model.compile(optimizer='adam', loss='sparse_categorical_crossentropy', metrics=['accuracy'])\n",
        "r = model.fit(X_train, y_train,  validation_data = (X_test, y_test), epochs = 50)"
      ],
      "execution_count": 15,
      "outputs": [
        {
          "output_type": "stream",
          "text": [
            "Epoch 1/50\n",
            "1563/1563 [==============================] - 10s 6ms/step - loss: 1.3083 - accuracy: 0.5480 - val_loss: 1.0959 - val_accuracy: 0.6289\n",
            "Epoch 2/50\n",
            "1563/1563 [==============================] - 9s 6ms/step - loss: 0.8544 - accuracy: 0.7035 - val_loss: 0.9379 - val_accuracy: 0.6838\n",
            "Epoch 3/50\n",
            "1563/1563 [==============================] - 9s 6ms/step - loss: 0.6939 - accuracy: 0.7600 - val_loss: 0.8017 - val_accuracy: 0.7329\n",
            "Epoch 4/50\n",
            "1563/1563 [==============================] - 9s 6ms/step - loss: 0.5877 - accuracy: 0.7962 - val_loss: 0.7180 - val_accuracy: 0.7565\n",
            "Epoch 5/50\n",
            "1563/1563 [==============================] - 10s 6ms/step - loss: 0.4969 - accuracy: 0.8308 - val_loss: 0.6986 - val_accuracy: 0.7690\n",
            "Epoch 6/50\n",
            "1563/1563 [==============================] - 10s 6ms/step - loss: 0.4181 - accuracy: 0.8563 - val_loss: 0.6741 - val_accuracy: 0.7917\n",
            "Epoch 7/50\n",
            "1563/1563 [==============================] - 9s 6ms/step - loss: 0.3559 - accuracy: 0.8780 - val_loss: 0.7953 - val_accuracy: 0.7686\n",
            "Epoch 8/50\n",
            "1563/1563 [==============================] - 9s 6ms/step - loss: 0.3011 - accuracy: 0.8965 - val_loss: 0.6275 - val_accuracy: 0.8064\n",
            "Epoch 9/50\n",
            "1563/1563 [==============================] - 9s 6ms/step - loss: 0.2651 - accuracy: 0.9093 - val_loss: 0.6788 - val_accuracy: 0.7970\n",
            "Epoch 10/50\n",
            "1563/1563 [==============================] - 9s 6ms/step - loss: 0.2183 - accuracy: 0.9244 - val_loss: 0.7334 - val_accuracy: 0.8066\n",
            "Epoch 11/50\n",
            "1563/1563 [==============================] - 9s 6ms/step - loss: 0.1969 - accuracy: 0.9330 - val_loss: 0.6835 - val_accuracy: 0.8124\n",
            "Epoch 12/50\n",
            "1563/1563 [==============================] - 9s 6ms/step - loss: 0.1797 - accuracy: 0.9375 - val_loss: 0.6607 - val_accuracy: 0.8191\n",
            "Epoch 13/50\n",
            "1563/1563 [==============================] - 9s 6ms/step - loss: 0.1529 - accuracy: 0.9478 - val_loss: 0.6871 - val_accuracy: 0.8165\n",
            "Epoch 14/50\n",
            "1563/1563 [==============================] - 9s 6ms/step - loss: 0.1496 - accuracy: 0.9495 - val_loss: 0.7178 - val_accuracy: 0.8245\n",
            "Epoch 15/50\n",
            "1563/1563 [==============================] - 9s 6ms/step - loss: 0.1352 - accuracy: 0.9546 - val_loss: 0.7477 - val_accuracy: 0.8180\n",
            "Epoch 16/50\n",
            "1563/1563 [==============================] - 9s 6ms/step - loss: 0.1260 - accuracy: 0.9579 - val_loss: 0.7522 - val_accuracy: 0.8311\n",
            "Epoch 17/50\n",
            "1563/1563 [==============================] - 10s 6ms/step - loss: 0.1165 - accuracy: 0.9609 - val_loss: 0.8119 - val_accuracy: 0.8211\n",
            "Epoch 18/50\n",
            "1563/1563 [==============================] - 9s 6ms/step - loss: 0.1049 - accuracy: 0.9655 - val_loss: 0.7224 - val_accuracy: 0.8307\n",
            "Epoch 19/50\n",
            "1563/1563 [==============================] - 9s 6ms/step - loss: 0.0962 - accuracy: 0.9679 - val_loss: 0.7920 - val_accuracy: 0.8321\n",
            "Epoch 20/50\n",
            "1563/1563 [==============================] - 9s 6ms/step - loss: 0.0998 - accuracy: 0.9680 - val_loss: 0.7852 - val_accuracy: 0.8314\n",
            "Epoch 21/50\n",
            "1563/1563 [==============================] - 9s 6ms/step - loss: 0.0879 - accuracy: 0.9713 - val_loss: 0.7647 - val_accuracy: 0.8340\n",
            "Epoch 22/50\n",
            "1563/1563 [==============================] - 9s 6ms/step - loss: 0.0826 - accuracy: 0.9720 - val_loss: 0.8079 - val_accuracy: 0.8279\n",
            "Epoch 23/50\n",
            "1563/1563 [==============================] - 9s 6ms/step - loss: 0.0797 - accuracy: 0.9740 - val_loss: 0.7308 - val_accuracy: 0.8304\n",
            "Epoch 24/50\n",
            "1563/1563 [==============================] - 9s 6ms/step - loss: 0.0777 - accuracy: 0.9740 - val_loss: 0.7892 - val_accuracy: 0.8398\n",
            "Epoch 25/50\n",
            "1563/1563 [==============================] - 9s 6ms/step - loss: 0.0724 - accuracy: 0.9760 - val_loss: 0.8745 - val_accuracy: 0.8329\n",
            "Epoch 26/50\n",
            "1563/1563 [==============================] - 9s 6ms/step - loss: 0.0767 - accuracy: 0.9747 - val_loss: 0.8308 - val_accuracy: 0.8277\n",
            "Epoch 27/50\n",
            "1563/1563 [==============================] - 9s 6ms/step - loss: 0.0683 - accuracy: 0.9772 - val_loss: 0.8284 - val_accuracy: 0.8312\n",
            "Epoch 28/50\n",
            "1563/1563 [==============================] - 9s 6ms/step - loss: 0.0644 - accuracy: 0.9788 - val_loss: 0.7836 - val_accuracy: 0.8291\n",
            "Epoch 29/50\n",
            "1563/1563 [==============================] - 9s 6ms/step - loss: 0.0633 - accuracy: 0.9799 - val_loss: 0.8147 - val_accuracy: 0.8283\n",
            "Epoch 30/50\n",
            "1563/1563 [==============================] - 9s 6ms/step - loss: 0.0621 - accuracy: 0.9797 - val_loss: 0.8269 - val_accuracy: 0.8318\n",
            "Epoch 31/50\n",
            "1563/1563 [==============================] - 9s 6ms/step - loss: 0.0637 - accuracy: 0.9792 - val_loss: 0.8455 - val_accuracy: 0.8348\n",
            "Epoch 32/50\n",
            "1563/1563 [==============================] - 9s 6ms/step - loss: 0.0612 - accuracy: 0.9796 - val_loss: 0.8462 - val_accuracy: 0.8382\n",
            "Epoch 33/50\n",
            "1563/1563 [==============================] - 9s 6ms/step - loss: 0.0544 - accuracy: 0.9823 - val_loss: 0.8424 - val_accuracy: 0.8400\n",
            "Epoch 34/50\n",
            "1563/1563 [==============================] - 9s 6ms/step - loss: 0.0583 - accuracy: 0.9807 - val_loss: 0.8120 - val_accuracy: 0.8383\n",
            "Epoch 35/50\n",
            "1563/1563 [==============================] - 9s 6ms/step - loss: 0.0578 - accuracy: 0.9809 - val_loss: 0.8118 - val_accuracy: 0.8426\n",
            "Epoch 36/50\n",
            "1563/1563 [==============================] - 9s 6ms/step - loss: 0.0472 - accuracy: 0.9845 - val_loss: 0.9162 - val_accuracy: 0.8389\n",
            "Epoch 37/50\n",
            "1563/1563 [==============================] - 9s 6ms/step - loss: 0.0532 - accuracy: 0.9833 - val_loss: 0.8207 - val_accuracy: 0.8376\n",
            "Epoch 38/50\n",
            "1563/1563 [==============================] - 9s 6ms/step - loss: 0.0490 - accuracy: 0.9837 - val_loss: 0.9380 - val_accuracy: 0.8386\n",
            "Epoch 39/50\n",
            "1563/1563 [==============================] - 9s 6ms/step - loss: 0.0543 - accuracy: 0.9828 - val_loss: 0.7863 - val_accuracy: 0.8336\n",
            "Epoch 40/50\n",
            "1563/1563 [==============================] - 9s 6ms/step - loss: 0.0490 - accuracy: 0.9846 - val_loss: 0.8969 - val_accuracy: 0.8313\n",
            "Epoch 41/50\n",
            "1563/1563 [==============================] - 9s 6ms/step - loss: 0.0507 - accuracy: 0.9834 - val_loss: 0.7897 - val_accuracy: 0.8366\n",
            "Epoch 42/50\n",
            "1563/1563 [==============================] - 9s 6ms/step - loss: 0.0424 - accuracy: 0.9862 - val_loss: 0.8857 - val_accuracy: 0.8376\n",
            "Epoch 43/50\n",
            "1563/1563 [==============================] - 9s 6ms/step - loss: 0.0471 - accuracy: 0.9849 - val_loss: 0.9185 - val_accuracy: 0.8401\n",
            "Epoch 44/50\n",
            "1563/1563 [==============================] - 9s 6ms/step - loss: 0.0467 - accuracy: 0.9855 - val_loss: 0.8428 - val_accuracy: 0.8390\n",
            "Epoch 45/50\n",
            "1563/1563 [==============================] - 9s 6ms/step - loss: 0.0438 - accuracy: 0.9856 - val_loss: 0.8195 - val_accuracy: 0.8416\n",
            "Epoch 46/50\n",
            "1563/1563 [==============================] - 9s 6ms/step - loss: 0.0418 - accuracy: 0.9865 - val_loss: 0.8321 - val_accuracy: 0.8396\n",
            "Epoch 47/50\n",
            "1563/1563 [==============================] - 9s 6ms/step - loss: 0.0400 - accuracy: 0.9873 - val_loss: 0.9303 - val_accuracy: 0.8381\n",
            "Epoch 48/50\n",
            "1563/1563 [==============================] - 9s 6ms/step - loss: 0.0423 - accuracy: 0.9862 - val_loss: 1.0228 - val_accuracy: 0.8354\n",
            "Epoch 49/50\n",
            "1563/1563 [==============================] - 9s 6ms/step - loss: 0.0448 - accuracy: 0.9858 - val_loss: 0.9382 - val_accuracy: 0.8301\n",
            "Epoch 50/50\n",
            "1563/1563 [==============================] - 10s 6ms/step - loss: 0.0425 - accuracy: 0.9866 - val_loss: 0.9534 - val_accuracy: 0.8411\n"
          ],
          "name": "stdout"
        }
      ]
    },
    {
      "cell_type": "code",
      "metadata": {
        "colab": {
          "base_uri": "https://localhost:8080/"
        },
        "id": "R8ujyZL0rb2i",
        "outputId": "41b1e181-857d-4c44-a612-31816c089d07"
      },
      "source": [
        "batch_size = 32\n",
        "data_generator = tf.keras.preprocessing.image.ImageDataGenerator(width_shift_range=0.1, height_shift_range=0.1, horizontal_flip=True)\n",
        "train_generator = data_generator.flow(X_train, y_train, batch_size)\n",
        "steps_per_epoch = X_train.shape[0] // batch_size\n",
        "r = model.fit(train_generator, validation_data=(X_test, y_test), steps_per_epoch=steps_per_epoch, epochs=50)"
      ],
      "execution_count": 16,
      "outputs": [
        {
          "output_type": "stream",
          "text": [
            "Epoch 1/50\n",
            "1562/1562 [==============================] - 28s 18ms/step - loss: 0.5491 - accuracy: 0.8261 - val_loss: 0.5156 - val_accuracy: 0.8379\n",
            "Epoch 2/50\n",
            "1562/1562 [==============================] - 28s 18ms/step - loss: 0.4333 - accuracy: 0.8565 - val_loss: 0.4852 - val_accuracy: 0.8424\n",
            "Epoch 3/50\n",
            "1562/1562 [==============================] - 27s 17ms/step - loss: 0.3993 - accuracy: 0.8673 - val_loss: 0.4683 - val_accuracy: 0.8468\n",
            "Epoch 4/50\n",
            "1562/1562 [==============================] - 27s 17ms/step - loss: 0.3839 - accuracy: 0.8725 - val_loss: 0.4928 - val_accuracy: 0.8416\n",
            "Epoch 5/50\n",
            "1562/1562 [==============================] - 27s 17ms/step - loss: 0.3651 - accuracy: 0.8770 - val_loss: 0.4863 - val_accuracy: 0.8495\n",
            "Epoch 6/50\n",
            "1562/1562 [==============================] - 27s 17ms/step - loss: 0.3503 - accuracy: 0.8819 - val_loss: 0.4333 - val_accuracy: 0.8603\n",
            "Epoch 7/50\n",
            "1562/1562 [==============================] - 27s 17ms/step - loss: 0.3318 - accuracy: 0.8883 - val_loss: 0.4485 - val_accuracy: 0.8603\n",
            "Epoch 8/50\n",
            "1562/1562 [==============================] - 27s 17ms/step - loss: 0.3192 - accuracy: 0.8936 - val_loss: 0.4512 - val_accuracy: 0.8592\n",
            "Epoch 9/50\n",
            "1562/1562 [==============================] - 27s 17ms/step - loss: 0.3151 - accuracy: 0.8939 - val_loss: 0.4295 - val_accuracy: 0.8607\n",
            "Epoch 10/50\n",
            "1562/1562 [==============================] - 27s 17ms/step - loss: 0.2990 - accuracy: 0.8983 - val_loss: 0.4147 - val_accuracy: 0.8677\n",
            "Epoch 11/50\n",
            "1562/1562 [==============================] - 27s 17ms/step - loss: 0.2960 - accuracy: 0.9004 - val_loss: 0.4406 - val_accuracy: 0.8672\n",
            "Epoch 12/50\n",
            "1562/1562 [==============================] - 27s 18ms/step - loss: 0.2864 - accuracy: 0.9030 - val_loss: 0.4418 - val_accuracy: 0.8553\n",
            "Epoch 13/50\n",
            "1562/1562 [==============================] - 28s 18ms/step - loss: 0.2774 - accuracy: 0.9064 - val_loss: 0.4048 - val_accuracy: 0.8689\n",
            "Epoch 14/50\n",
            "1562/1562 [==============================] - 28s 18ms/step - loss: 0.2707 - accuracy: 0.9095 - val_loss: 0.4322 - val_accuracy: 0.8619\n",
            "Epoch 15/50\n",
            "1562/1562 [==============================] - 27s 17ms/step - loss: 0.2646 - accuracy: 0.9102 - val_loss: 0.4192 - val_accuracy: 0.8712\n",
            "Epoch 16/50\n",
            "1562/1562 [==============================] - 27s 17ms/step - loss: 0.2613 - accuracy: 0.9116 - val_loss: 0.4317 - val_accuracy: 0.8686\n",
            "Epoch 17/50\n",
            "1562/1562 [==============================] - 27s 18ms/step - loss: 0.2518 - accuracy: 0.9138 - val_loss: 0.4389 - val_accuracy: 0.8669\n",
            "Epoch 18/50\n",
            "1562/1562 [==============================] - 27s 17ms/step - loss: 0.2501 - accuracy: 0.9154 - val_loss: 0.4136 - val_accuracy: 0.8725\n",
            "Epoch 19/50\n",
            "1562/1562 [==============================] - 27s 17ms/step - loss: 0.2472 - accuracy: 0.9157 - val_loss: 0.4069 - val_accuracy: 0.8762\n",
            "Epoch 20/50\n",
            "1562/1562 [==============================] - 27s 17ms/step - loss: 0.2402 - accuracy: 0.9186 - val_loss: 0.4398 - val_accuracy: 0.8680\n",
            "Epoch 21/50\n",
            "1562/1562 [==============================] - 26s 17ms/step - loss: 0.2364 - accuracy: 0.9205 - val_loss: 0.4297 - val_accuracy: 0.8648\n",
            "Epoch 22/50\n",
            "1562/1562 [==============================] - 27s 17ms/step - loss: 0.2328 - accuracy: 0.9211 - val_loss: 0.4428 - val_accuracy: 0.8715\n",
            "Epoch 23/50\n",
            "1562/1562 [==============================] - 27s 18ms/step - loss: 0.2319 - accuracy: 0.9222 - val_loss: 0.4345 - val_accuracy: 0.8769\n",
            "Epoch 24/50\n",
            "1562/1562 [==============================] - 27s 17ms/step - loss: 0.2266 - accuracy: 0.9232 - val_loss: 0.4289 - val_accuracy: 0.8748\n",
            "Epoch 25/50\n",
            "1562/1562 [==============================] - 26s 17ms/step - loss: 0.2218 - accuracy: 0.9234 - val_loss: 0.4222 - val_accuracy: 0.8774\n",
            "Epoch 26/50\n",
            "1562/1562 [==============================] - 26s 17ms/step - loss: 0.2158 - accuracy: 0.9265 - val_loss: 0.4192 - val_accuracy: 0.8779\n",
            "Epoch 27/50\n",
            "1562/1562 [==============================] - 26s 17ms/step - loss: 0.2116 - accuracy: 0.9272 - val_loss: 0.4212 - val_accuracy: 0.8691\n",
            "Epoch 28/50\n",
            "1562/1562 [==============================] - 26s 17ms/step - loss: 0.2096 - accuracy: 0.9276 - val_loss: 0.4209 - val_accuracy: 0.8710\n",
            "Epoch 29/50\n",
            "1562/1562 [==============================] - 26s 17ms/step - loss: 0.2074 - accuracy: 0.9283 - val_loss: 0.4492 - val_accuracy: 0.8829\n",
            "Epoch 30/50\n",
            "1562/1562 [==============================] - 26s 17ms/step - loss: 0.2022 - accuracy: 0.9321 - val_loss: 0.4037 - val_accuracy: 0.8790\n",
            "Epoch 31/50\n",
            "1562/1562 [==============================] - 26s 17ms/step - loss: 0.2055 - accuracy: 0.9314 - val_loss: 0.4351 - val_accuracy: 0.8779\n",
            "Epoch 32/50\n",
            "1562/1562 [==============================] - 26s 17ms/step - loss: 0.1942 - accuracy: 0.9333 - val_loss: 0.4667 - val_accuracy: 0.8741\n",
            "Epoch 33/50\n",
            "1562/1562 [==============================] - 27s 17ms/step - loss: 0.1984 - accuracy: 0.9325 - val_loss: 0.4078 - val_accuracy: 0.8777\n",
            "Epoch 34/50\n",
            "1562/1562 [==============================] - 26s 17ms/step - loss: 0.1959 - accuracy: 0.9337 - val_loss: 0.4250 - val_accuracy: 0.8759\n",
            "Epoch 35/50\n",
            "1562/1562 [==============================] - 27s 17ms/step - loss: 0.1923 - accuracy: 0.9356 - val_loss: 0.3995 - val_accuracy: 0.8808\n",
            "Epoch 36/50\n",
            "1562/1562 [==============================] - 26s 17ms/step - loss: 0.1852 - accuracy: 0.9370 - val_loss: 0.4446 - val_accuracy: 0.8796\n",
            "Epoch 37/50\n",
            "1562/1562 [==============================] - 26s 17ms/step - loss: 0.1863 - accuracy: 0.9376 - val_loss: 0.4249 - val_accuracy: 0.8768\n",
            "Epoch 38/50\n",
            "1562/1562 [==============================] - 26s 17ms/step - loss: 0.1831 - accuracy: 0.9373 - val_loss: 0.4473 - val_accuracy: 0.8758\n",
            "Epoch 39/50\n",
            "1562/1562 [==============================] - 26s 17ms/step - loss: 0.1822 - accuracy: 0.9391 - val_loss: 0.4545 - val_accuracy: 0.8731\n",
            "Epoch 40/50\n",
            "1562/1562 [==============================] - 26s 17ms/step - loss: 0.1806 - accuracy: 0.9384 - val_loss: 0.4520 - val_accuracy: 0.8836\n",
            "Epoch 41/50\n",
            "1562/1562 [==============================] - 26s 17ms/step - loss: 0.1785 - accuracy: 0.9402 - val_loss: 0.4169 - val_accuracy: 0.8786\n",
            "Epoch 42/50\n",
            "1562/1562 [==============================] - 26s 17ms/step - loss: 0.1775 - accuracy: 0.9412 - val_loss: 0.4167 - val_accuracy: 0.8771\n",
            "Epoch 43/50\n",
            "1562/1562 [==============================] - 26s 17ms/step - loss: 0.1731 - accuracy: 0.9407 - val_loss: 0.4213 - val_accuracy: 0.8794\n",
            "Epoch 44/50\n",
            "1562/1562 [==============================] - 26s 17ms/step - loss: 0.1669 - accuracy: 0.9435 - val_loss: 0.4005 - val_accuracy: 0.8822\n",
            "Epoch 45/50\n",
            "1562/1562 [==============================] - 26s 16ms/step - loss: 0.1741 - accuracy: 0.9416 - val_loss: 0.4572 - val_accuracy: 0.8768\n",
            "Epoch 46/50\n",
            "1562/1562 [==============================] - 26s 17ms/step - loss: 0.1654 - accuracy: 0.9439 - val_loss: 0.4149 - val_accuracy: 0.8797\n",
            "Epoch 47/50\n",
            "1562/1562 [==============================] - 28s 18ms/step - loss: 0.1668 - accuracy: 0.9436 - val_loss: 0.4493 - val_accuracy: 0.8855\n",
            "Epoch 48/50\n",
            "1562/1562 [==============================] - 28s 18ms/step - loss: 0.1700 - accuracy: 0.9425 - val_loss: 0.4593 - val_accuracy: 0.8763\n",
            "Epoch 49/50\n",
            "1562/1562 [==============================] - 27s 17ms/step - loss: 0.1607 - accuracy: 0.9457 - val_loss: 0.4466 - val_accuracy: 0.8781\n",
            "Epoch 50/50\n",
            "1562/1562 [==============================] - 27s 17ms/step - loss: 0.1616 - accuracy: 0.9463 - val_loss: 0.4016 - val_accuracy: 0.8783\n"
          ],
          "name": "stdout"
        }
      ]
    },
    {
      "cell_type": "code",
      "metadata": {
        "colab": {
          "base_uri": "https://localhost:8080/",
          "height": 505
        },
        "id": "I-8NxsF2uD5V",
        "outputId": "5327ec04-1ac4-4934-ddc9-1f06173bac03"
      },
      "source": [
        "from sklearn.metrics import confusion_matrix\n",
        "import itertools\n",
        "\n",
        "def plot_confusion_matrix(cm, classes, normalize=False, title='Confusion Matrix', cmap=plt.cm.Blues):\n",
        "\n",
        "  if normalize:\n",
        "    cm = cm.astype('float') / cm.sum(axis=1)[:, np.newaxis]\n",
        "    print('Normalized Confusion Matrix')\n",
        "  else:\n",
        "    print('Confusion Matrix without normalization')\n",
        "\n",
        "  print(cm)\n",
        "  plt.imshow(cm, interpolation = 'nearest', cmap = cmap)\n",
        "  plt.title(title)\n",
        "  plt.colorbar()\n",
        "  tick_marks = np.arange(len(classes))\n",
        "  plt.xticks(tick_marks, classes, rotation = 45)\n",
        "  plt.yticks(tick_marks, classes)\n",
        "\n",
        "  fmt = '.2f' if normalize else 'd'\n",
        "  thresh = cm.max()/2\n",
        "  for i, j in itertools.product(range(cm.shape[0]), range(cm.shape[1])):\n",
        "    plt.text(j, i, format(cm[i, j], fmt), horizontalalignment='center', color='white' if cm[i, j] > thresh else 'black')\n",
        "  \n",
        "  plt.tight_layout()\n",
        "  plt.ylabel('True label')\n",
        "  plt.xlabel('Predicted Label')\n",
        "  plt.show()\n",
        "\n",
        "p_test = model.predict(X_test).argmax(axis=1)\n",
        "cm = confusion_matrix(y_test, p_test)\n",
        "plot_confusion_matrix(cm, list(range(10)))"
      ],
      "execution_count": 17,
      "outputs": [
        {
          "output_type": "stream",
          "text": [
            "Confusion Matrix without normalization\n",
            "[[919   4  27   6   2   1   2   5  22  12]\n",
            " [  6 966   1   0   0   0   0   0   4  23]\n",
            " [ 32   2 838  18  38  14  38  14   4   2]\n",
            " [ 16   6  40 734  28  70  68  20   6  12]\n",
            " [  8   1  42  15 873   9  29  20   1   2]\n",
            " [  9   3  37 112  26 747  24  37   0   5]\n",
            " [  4   2  22  21   8   0 939   1   2   1]\n",
            " [  6   1  15  12  26   9   3 921   2   5]\n",
            " [ 33  10   2   0   2   1   3   1 926  22]\n",
            " [ 16  48   1   3   2   0   3   3   4 920]]\n"
          ],
          "name": "stdout"
        },
        {
          "output_type": "display_data",
          "data": {
            "image/png": "[encoded data removed]",
            "text/plain": [
              "<Figure size 432x288 with 2 Axes>"
            ]
          },
          "metadata": {
            "tags": [],
            "needs_background": "light"
          }
        }
      ]
    },
    {
      "cell_type": "code",
      "metadata": {
        "id": "Angvc_G2pRXg"
      },
      "source": [
        "labels = '''airplane\n",
        "automobile\n",
        "bird\n",
        "cat\n",
        "deer\n",
        "dog\n",
        "frog\n",
        "horse\n",
        "ship\n",
        "truck'''.split()"
      ],
      "execution_count": 18,
      "outputs": []
    },
    {
      "cell_type": "code",
      "metadata": {
        "id": "OX8SLQgWp1S5",
        "colab": {
          "base_uri": "https://localhost:8080/",
          "height": 281
        },
        "outputId": "fedc87ab-7840-4d15-9fcf-0d184087f5c6"
      },
      "source": [
        "misclassified_idx = np.where(p_test != y_test)[0]\n",
        "i = np.random.choice(misclassified_idx)\n",
        "plt.imshow(X_test[i], cmap='gray')\n",
        "plt.title('True label: %s Predicted: %s' % (labels[y_test[i]], labels[p_test[i]]));"
      ],
      "execution_count": 23,
      "outputs": [
        {
          "output_type": "display_data",
          "data": {
            "image/png": "[encoded data removed]",
            "text/plain": [
              "<Figure size 432x288 with 1 Axes>"
            ]
          },
          "metadata": {
            "tags": [],
            "needs_background": "light"
          }
        }
      ]
    }
  ]
}